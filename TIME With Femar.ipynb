{
 "cells": [
  {
   "cell_type": "code",
   "execution_count": 1,
   "id": "505cab3d",
   "metadata": {
    "jupyter": {
     "source_hidden": true
    },
    "tags": []
   },
   "outputs": [
    {
     "name": "stdout",
     "output_type": "stream",
     "text": [
      "-304271313sesconds Ago\n"
     ]
    }
   ],
   "source": [
    "from datetime import datetime\n",
    "from datetime import timedelta\n",
    "a = datetime.now()\n",
    "b = datetime(2031,6,1,8,21,10)\n",
    "\n",
    "#Return timedelta object\n",
    "c = a - b\n",
    "total_sec = c.total_seconds()\n",
    "t_days = c.days\n",
    "''\n",
    "num_months = (a.year - b.year)*12 + (a.month - a.month)\n",
    "''\n",
    "\n",
    "\n",
    "if(total_sec < 60):\n",
    "    lapse = round(total_sec)\n",
    "    if(lapse == 1):\n",
    "        print(f'{lapse} second Ago')\n",
    "    else:\n",
    "        print(f'{lapse}sesconds Ago')\n",
    "    \n",
    "elif(total_sec >= 60 and total_sec < 3600):\n",
    "    lapse = round(total_sec / 60)\n",
    "    if(lapse == 1):\n",
    "        print(f'{lapse} minute Ago')\n",
    "    else:\n",
    "        print(f'{lapse} minutes Ago')\n",
    "    \n",
    "elif(total_sec >= 3600 and total_sec < (24*3600)):\n",
    "    lapse = round(total_sec / 3600)\n",
    "    if(lapse == 1):\n",
    "        print(f'{lapse} hour Ago')\n",
    "    else:\n",
    "        print(f'{lapse} hours Ago')\n",
    "    \n",
    "elif(total_sec >= 24*3600 and total_sec < (7*24*3600)):\n",
    "    lapse  = round(c.days)\n",
    "    if(lapse == 1):\n",
    "        print(f'{lapse} day Ago')\n",
    "    else:\n",
    "        print(f'{lapse} days Ago')\n",
    "        \n",
    "elif(total_sec >= (7*24*3600) and total_sec < (30*24*3600)):\n",
    "    lapse = (t_days / 7)\n",
    "    if(lapse == 1):\n",
    "        print(f'{lapse} weeek Ago')\n",
    "    else:\n",
    "        print(f'{lapse} weeks Ago')\n",
    "    \n",
    "elif(total_sec >= 2592000 and total_sec < 31536000):\n",
    "    lapse = round(t_days/30)\n",
    "    if(lapse == 1):\n",
    "        print(f'{lapse} month Ago')\n",
    "    else:\n",
    "        print(f'{lapse} months Ago')\n",
    "    \n",
    "else:\n",
    "    lapse = round(t_days / 365)\n",
    "    if(lapse == 1):\n",
    "        print(f'{lapse} year Ago')\n",
    "    else:\n",
    "        print(f'{lapse}years Ago')\n",
    "            \n",
    "\n"
   ]
  },
  {
   "cell_type": "code",
   "execution_count": 40,
   "id": "2b64ec49",
   "metadata": {},
   "outputs": [],
   "source": [
    "#Importing modules\n",
    "import time\n",
    "from datetime import datetime\n",
    "from datetime import timedelta\n",
    "\n",
    "#Main class\n",
    "class atime():\n",
    "    \n",
    "    def __init__(self,year,month,day,hour,minute,second):\n",
    "     #attributes\n",
    "        self.year = self.valid_year(year)\n",
    "        self.month = self.valid_month(month)\n",
    "        self.day = self.valid_day(day)\n",
    "        self.hour = self.valid_hour(hour)\n",
    "        self.minute = self.valid_minute(minute)\n",
    "        self.second = self.valid_second(second)\n",
    "    \n",
    "       \n",
    "        stri = (self.year,self.month,self.day,self.hour,self.minute,self.second)\n",
    "        #stri = (self.year,self.month,self.day,self.hour,self.minute,self.second)\n",
    "        stri1 = '-'.join(str(e)for e in stri[:3])\n",
    "        stri2 = ':'.join(str(e)for e in stri[2:-1])\n",
    "        stri3 = stri1 + ' ' + stri2\n",
    "        self.vall = datetime.strptime(stri3, '%Y-%m-%d %H:%M:%S')\n",
    "        self.posted = self.vall\n",
    "        diff = datetime.now() - self.posted\n",
    "        total_sec = diff.total_seconds()\n",
    "        t_days = diff.days\n",
    "        \n",
    "        if(total_sec<0):\n",
    "            raise ValueError('Input Date cannot be in Future')\n",
    "    \n",
    "\"\"\" def valid_year(self,year):\n",
    "        if(year<1970 and year<2099):\n",
    "            raise ValueError(\"Year must be in 1970.. 2099\")\n",
    "        return year\n",
    "    \n",
    "    def valid_month(self,month):\n",
    "        if(month >12 and month < 1):\n",
    "            raise ValueError(\"Month must be in between 1..12\")\n",
    "        return month\n",
    "    \n",
    "    def valid_day(self,day):\n",
    "        if(day<1 and day >31):\n",
    "            raise ValueError(\"Day must be in 1..31\")\n",
    "        return day\n",
    "    \n",
    "    def valid_hour(self,hour):\n",
    "        if(hour<0 and hour>23):\n",
    "            raise ValueError(\"Hour must be in 0..23\")\n",
    "        return hour\n",
    "    \n",
    "    def valid_minute(self,minute):\n",
    "        if(minute<0 and minute>59):\n",
    "            raise ValueError(\"Minute must be in 0..59\")\n",
    "        return minute\n",
    "    \n",
    "    def valid_second(self,second):\n",
    "        if(second<0 and second>59):\n",
    "            raise ValueError(\"Second must be between 0..59\")\"\"\"\n",
    "    \n",
    "    def alapse(self):\n",
    "        diff = datetime.now() - self.posted\n",
    "        total_sec = diff.total_seconds()\n",
    "        t_days = diff.days\n",
    "        \n",
    "        if(total_sec < 60):\n",
    "            lapse = round(total_sec)\n",
    "            if(lapse == 1):\n",
    "                print(f'{lapse} second Ago')\n",
    "            else:\n",
    "                print(f'{lapse}sesconds Ago')\n",
    "\n",
    "        elif(total_sec >= 60 and total_sec < 3600):\n",
    "            lapse = round(total_sec / 60)\n",
    "            if(lapse == 1):\n",
    "                print(f'{lapse} minute Ago')\n",
    "            else:\n",
    "                print(f'{lapse} minutes Ago')\n",
    "\n",
    "        elif(total_sec >= 3600 and total_sec < (24*3600)):\n",
    "            lapse = round(total_sec / 3600)\n",
    "            if(lapse == 1):\n",
    "                print(f'{lapse} hour Ago')\n",
    "            else:\n",
    "                print(f'{lapse} hours Ago')\n",
    "\n",
    "        elif(total_sec >= 24*3600 and total_sec < (7*24*3600)):\n",
    "            lapse  = round(t_days)\n",
    "            if(lapse == 1):\n",
    "                print(f'{lapse} day Ago')\n",
    "            else:\n",
    "                print(f'{lapse} days Ago')\n",
    "\n",
    "        elif(total_sec >= (7*24*3600) and total_sec < (30*24*3600)):\n",
    "            lapse = (t_days / 7)\n",
    "            if(lapse == 1):\n",
    "                print(f'{lapse} weeek Ago')\n",
    "            else:\n",
    "                print(f'{lapse} weeks Ago')\n",
    "\n",
    "        elif(total_sec >= 2592000 and total_sec < 31536000):\n",
    "            lapse = round(t_days/30)\n",
    "            if(lapse == 1):\n",
    "                print(f'{lapse} month Ago')\n",
    "            else:\n",
    "                print(f'{lapse} months Ago')\n",
    "\n",
    "        else:\n",
    "            lapse = round(t_days / 365)\n",
    "            if(lapse == 1):\n",
    "                print(f'{lapse} year Ago')\n",
    "            else:\n",
    "                print(f'{lapse}years Ago')\n",
    "    \n",
    "    def seconds(self):\n",
    "        return round(diff.total_seconds())\n",
    "    def minutes(self):\n",
    "        return round(total_sec/60)\n",
    "    def hours(self):\n",
    "        return round(total_sec/3600)\n",
    "    def days(self):\n",
    "        return round(t_days)\n",
    "    def weeks(self):\n",
    "        return round(t_days/7)\n",
    "    def months(self):\n",
    "        return round(t_days/30)\n",
    "    def years(self):\n",
    "        return round(t_days/365)\n",
    "\n",
    "\n",
    "        \n",
    "        "
   ]
  },
  {
   "cell_type": "code",
   "execution_count": 45,
   "id": "30263edc",
   "metadata": {},
   "outputs": [],
   "source": [
    "my_lapse = atime(2021,10,9,5,21,15)\n"
   ]
  },
  {
   "cell_type": "code",
   "execution_count": 46,
   "id": "c186577f",
   "metadata": {},
   "outputs": [
    {
     "name": "stdout",
     "output_type": "stream",
     "text": [
      "8 hours Ago\n"
     ]
    }
   ],
   "source": [
    "my_lapse.alapse()"
   ]
  },
  {
   "cell_type": "code",
   "execution_count": 7,
   "id": "3d4ce6c8",
   "metadata": {},
   "outputs": [],
   "source": [
    "def valll(year,month,day,hour,minute,second):\n",
    "    stri = (year,month,day,hour,minute,second)\n",
    "    stri1 = '-'.join(str(e)for e in stri[:3])\n",
    "    stri2 = ':'.join(str(e)for e in stri[2:-1])\n",
    "    stri3 = stri1 + ' ' + stri2\n",
    "    vall = datetime.strptime(stri3, '%Y-%m-%d %H:%M:%S')\n",
    "    return vall"
   ]
  },
  {
   "cell_type": "code",
   "execution_count": 8,
   "id": "bb788791",
   "metadata": {},
   "outputs": [
    {
     "name": "stdout",
     "output_type": "stream",
     "text": [
      "<built-in method total_seconds of datetime.timedelta object at 0x000001FFF189B0F0>\n"
     ]
    }
   ],
   "source": [
    "a = valll(2001,3,4,8,8,10)\n",
    "diff = datetime.now() - a\n",
    "s = diff.total_seconds\n",
    "print(s)"
   ]
  },
  {
   "cell_type": "code",
   "execution_count": 9,
   "id": "ee8d7471",
   "metadata": {},
   "outputs": [
    {
     "name": "stdout",
     "output_type": "stream",
     "text": [
      "11years Ago\n"
     ]
    }
   ],
   "source": [
    "my_lapse.alapse()"
   ]
  },
  {
   "cell_type": "code",
   "execution_count": 10,
   "id": "ad02b45b",
   "metadata": {},
   "outputs": [
    {
     "data": {
      "text/plain": [
       "-5071189"
      ]
     },
     "execution_count": 10,
     "metadata": {},
     "output_type": "execute_result"
    }
   ],
   "source": [
    "my_lapse.minutes()"
   ]
  },
  {
   "cell_type": "code",
   "execution_count": 11,
   "id": "246d3371",
   "metadata": {},
   "outputs": [
    {
     "name": "stdout",
     "output_type": "stream",
     "text": [
      "Total difference in minutes:  -5071189.0 minutes 26.69905298948288 seconds\n"
     ]
    }
   ],
   "source": [
    "#Returns minutes\n",
    "minutes = divmod(c.total_seconds(), 60)\n",
    "print('Total difference in minutes: ', minutes[0], 'minutes', minutes[1], 'seconds')"
   ]
  },
  {
   "cell_type": "code",
   "execution_count": 12,
   "id": "c75658a0",
   "metadata": {},
   "outputs": [],
   "source": [
    "def femartime(year,month,day,hour,minute,second):\n",
    "    a = datetime.now()\n",
    "    b = datetime(year,month,day,hour,minute,second)\n",
    "\n",
    "    #Return timedelta object\n",
    "    c = a - b\n",
    "    return c\n",
    "    "
   ]
  },
  {
   "cell_type": "code",
   "execution_count": 13,
   "id": "95a1e509",
   "metadata": {},
   "outputs": [],
   "source": [
    "timar = femartime(2001,5,5,12,25,30)"
   ]
  },
  {
   "cell_type": "code",
   "execution_count": 14,
   "id": "113c7b96",
   "metadata": {},
   "outputs": [
    {
     "name": "stdout",
     "output_type": "stream",
     "text": [
      "7462 days, 4:09:06.162298\n"
     ]
    }
   ],
   "source": [
    "print(timar)"
   ]
  },
  {
   "cell_type": "code",
   "execution_count": 15,
   "id": "be9cdaff",
   "metadata": {},
   "outputs": [
    {
     "name": "stdout",
     "output_type": "stream",
     "text": [
      "Invalid Password\n"
     ]
    }
   ],
   "source": [
    "import re\n",
    "password = 'Fescii3'\n",
    "con = 0\n",
    "while True:\n",
    "    if(len(password)<8):\n",
    "        con = -1\n",
    "        break\n",
    "    elif not re.search(\"[a-z]\", password):\n",
    "        con = -1\n",
    "        break\n",
    "    elif not re.search(\"[A-Z]\",password):\n",
    "        con = -1\n",
    "        break\n",
    "    elif not re.search(\"[0-9]\",password):\n",
    "        con = -1\n",
    "        break\n",
    "    elif not re.search(\"[_@$]\",password):\n",
    "        con = -1\n",
    "        break\n",
    "    elif re.search(\"\\s\",password):\n",
    "        con = -1\n",
    "        break\n",
    "    else:\n",
    "        con = 0\n",
    "        print(\"Valid password\")\n",
    "        break\n",
    "if con == -1:\n",
    "    print(\"Invalid Password\")"
   ]
  },
  {
   "cell_type": "code",
   "execution_count": 47,
   "id": "ec954807",
   "metadata": {},
   "outputs": [],
   "source": [
    "class password():\n",
    "    stored = 'Fescii##$$3'\n",
    "    def __init__(self,password):\n",
    "        self.password = password\n",
    "        \n",
    "    def passcheck(self):\n",
    "        ti = [0]*6\n",
    "        if(len(self.password)<8):\n",
    "            ti[0] = 'be 8 characters long' \n",
    "        if not re.search(\"[a-z]\", self.password):\n",
    "            ti[1] = 'contain a lowercase number'\n",
    "        if not re.search(\"[A-Z]\",self.password):\n",
    "            ti[2] = 'contain an uppercase latter'\n",
    "        if not re.search(\"[0-9]\",self.password):\n",
    "            ti[3] = 'contain at least a number'\n",
    "        if not re.search(\"[_@$]\",self.password):\n",
    "            ti[4] = 'must contain a special character'\n",
    "        if re.search(\"\\s\",self.password):\n",
    "            ti[5] = 'contain no spaces'\n",
    "        if(ti == [0,0,0,0,0,0]):\n",
    "            print(\"Valid password\")\n",
    "        else:\n",
    "            print(\"Password must:\")\n",
    "        for i in ti:\n",
    "            if i != 0:\n",
    "                print(i)\n",
    "    def validate(self):\n",
    "        pass"
   ]
  },
  {
   "cell_type": "markdown",
   "id": "34db4372",
   "metadata": {},
   "source": []
  },
  {
   "cell_type": "code",
   "execution_count": 48,
   "id": "e6de099e",
   "metadata": {},
   "outputs": [
    {
     "name": "stdout",
     "output_type": "stream",
     "text": [
      "Valid password\n"
     ]
    }
   ],
   "source": [
    "funn = password('Fescii##$$3')\n",
    "funn.passcheck()"
   ]
  },
  {
   "cell_type": "code",
   "execution_count": 79,
   "id": "39856ccf",
   "metadata": {},
   "outputs": [],
   "source": [
    "my_lapse = atime(2021,6,2,8,21,12)"
   ]
  },
  {
   "cell_type": "code",
   "execution_count": 80,
   "id": "ad0e8ae8",
   "metadata": {},
   "outputs": [
    {
     "name": "stdout",
     "output_type": "stream",
     "text": [
      "4 months Ago\n"
     ]
    }
   ],
   "source": [
    "my_lapse.alapse()"
   ]
  },
  {
   "cell_type": "code",
   "execution_count": 1,
   "id": "6e42c84e",
   "metadata": {},
   "outputs": [],
   "source": [
    "#Importing modules\n",
    "from dataclasses import dataclass\n",
    "from datetime import datetime\n",
    "from datetime import timedelta\n",
    "\n",
    "#Main class\n",
    "\n",
    "@dataclass\n",
    "class atime():\n",
    "    yeart:int\n",
    "    month:int\n",
    "    day:int\n",
    "    hour:int\n",
    "    minute:int\n",
    "    second:int\n",
    "    \n",
    "    def __init__(self,year,month,day,hour,minute,second):\n",
    "     #attribute\n",
    "    \n",
    "        self.year = year\n",
    "        self.month = month\n",
    "        self.day = day\n",
    "        self.hour = hour\n",
    "        self.minute = minute\n",
    "        self.second = second\n",
    "        #self.posted = datetime(year,month,day,hour,minute,second)\n",
    "        \n",
    "       \n",
    "        self.posted = datetime(self.year,self.month,self.day,self.hour,self.minute,self.second)\n",
    "    \n",
    "    \n",
    "    def alapse(self):\n",
    "        \"\"\"Function to calculate the lapse time to the nearest whole number!\"\"\"\n",
    "        diff = datetime.now() - self.posted\n",
    "        total_sec = diff.total_seconds()\n",
    "        t_days = diff.days\n",
    "        \n",
    "        if(total_sec<0):\n",
    "            raise ValueError('Input Year cannot be in Future')\n",
    "        \n",
    "        #Calculating the total seconds\n",
    "        if(total_sec < 60):\n",
    "            lapse = round(total_sec)\n",
    "            if(lapse == 1):\n",
    "                print(f'{lapse} second Ago')\n",
    "            else:\n",
    "                print(f'{lapse}sesconds Ago')\n",
    "\n",
    "        #Calculating minutes\n",
    "        elif(total_sec >= 60 and total_sec < 3600):\n",
    "            lapse = round(total_sec / 60)\n",
    "            if(lapse == 1):\n",
    "                print(f'{lapse} minute Ago')\n",
    "            else:\n",
    "                print(f'{lapse} minutes Ago')\n",
    "\n",
    "        #Calculating Hours\n",
    "        elif(total_sec >= 3600 and total_sec < (24*3600)):\n",
    "            lapse = round(total_sec / 3600)\n",
    "            if(lapse == 1):\n",
    "                print(f'{lapse} hour Ago')\n",
    "            else:\n",
    "                print(f'{lapse} hours Ago')\n",
    "\n",
    "        #Days\n",
    "        elif(total_sec >= 24*3600 and total_sec < (7*24*3600)):\n",
    "            lapse  = round(t_days)\n",
    "            if(lapse == 1):\n",
    "                print(f'{lapse} day Ago')\n",
    "            else:\n",
    "                print(f'{lapse} days Ago')\n",
    "\n",
    "        #Weeks\n",
    "        elif(total_sec >= (7*24*3600) and total_sec < (30*24*3600)):\n",
    "            lapse = (t_days / 7)\n",
    "            if(lapse == 1):\n",
    "                print(f'{lapse} weeek Ago')\n",
    "            else:\n",
    "                print(f'{lapse} weeks Ago')\n",
    "\n",
    "        #Months to the nearest Whole number\n",
    "        elif(total_sec >= 2592000 and total_sec < 31536000):\n",
    "            lapse = round(t_days/30)\n",
    "            if(lapse == 1):\n",
    "                print(f'{lapse} month Ago')\n",
    "            else:\n",
    "                print(f'{lapse} months Ago')\n",
    "\n",
    "        #Years\n",
    "        else:\n",
    "            lapse = round(t_days / 365)\n",
    "            if(lapse == 1):\n",
    "                print(f'{lapse} year Ago')\n",
    "            else:\n",
    "                print(f'{lapse} years Ago')\n",
    "\n",
    "\n",
    "    def slapse(self):\n",
    "        diff = datetime.now() - self.posted\n",
    "        total_sec = diff.total_seconds()\n",
    "        t_days = diff.days\n",
    "        \n",
    "        if(total_sec<0):\n",
    "            raise ValueError('Input Year cannot be in Future')\n",
    "        #Calculating the total seconds\n",
    "        if(total_sec < 60):\n",
    "            lapse = round(total_sec)\n",
    "            return f'{lapse} s'\n",
    "\n",
    "        #Calculating minutes\n",
    "        elif(total_sec >= 60 and total_sec < 3600):\n",
    "            lapse = round(total_sec / 60)\n",
    "            return f'{lapse} min'\n",
    "\n",
    "        #Calculating Hours\n",
    "        elif(total_sec >= 3600 and total_sec < (24*3600)):\n",
    "            lapse = round(total_sec / 3600)\n",
    "            return f'{lapse} h'\n",
    "\n",
    "        #Days\n",
    "        elif(total_sec >= 24*3600 and total_sec < (7*24*3600)):\n",
    "            lapse  = round(t_days)\n",
    "            return f'{lapse} d'\n",
    "\n",
    "        #Weeks\n",
    "        elif(total_sec >= (7*24*3600) and total_sec < (30*24*3600)):\n",
    "            lapse = round(t_days / 7)\n",
    "            return f'{lapse} w'\n",
    "\n",
    "        #Months to the nearest Whole number\n",
    "        elif(total_sec >= 2592000 and total_sec < 31536000):\n",
    "            lapse = round(t_days/30)\n",
    "            return f'{lapse} mon'\n",
    "\n",
    "        #Years\n",
    "        else:\n",
    "            lapse = round(t_days / 365)\n",
    "            return f'{lapse} y'\n",
    "\n",
    "\n",
    "    \n",
    "    def seconds(self):\n",
    "        diff = datetime.now() - self.posted\n",
    "        total_sec = diff.total_seconds()\n",
    "        return round(total_sec)\n",
    "\n",
    "\n",
    "    def minutes(self):\n",
    "        diff = datetime.now() - self.posted\n",
    "        total_sec = diff.total_seconds()\n",
    "        return round(total_sec/60)\n",
    "\n",
    "\n",
    "    def hours(self):\n",
    "        diff = datetime.now() - self.posted\n",
    "        total_sec = diff.total_seconds()\n",
    "        return round(total_sec/3600)\n",
    "\n",
    "\n",
    "    def days(self):\n",
    "        diff = datetime.now() - self.posted\n",
    "        t_days = diff.days\n",
    "        return round(t_days)\n",
    "\n",
    "\n",
    "    def weeks(self):\n",
    "        diff = datetime.now() - self.posted\n",
    "        t_days = diff.days\n",
    "        return round(t_days/7)\n",
    "\n",
    "\n",
    "    def months(self):\n",
    "        diff = datetime.now() - self.posted\n",
    "        t_days = diff.days\n",
    "        return round(self.t_days/30)\n",
    "\n",
    "\n",
    "    def years(self):\n",
    "        diff = datetime.now() - self.posted\n",
    "        t_days = diff.days\n",
    "        return round(self.t_days/365)  \n",
    "\n",
    "\n",
    "if __name__ == '__main__':\n",
    "     pass\n",
    "      "
   ]
  },
  {
   "cell_type": "code",
   "execution_count": 12,
   "id": "04fb2bf8",
   "metadata": {},
   "outputs": [],
   "source": [
    "my_lapse = atime(2021,3,2,8,21,18)"
   ]
  },
  {
   "cell_type": "code",
   "execution_count": 13,
   "id": "bab67c9f",
   "metadata": {},
   "outputs": [
    {
     "name": "stdout",
     "output_type": "stream",
     "text": [
      "8 months Ago\n"
     ]
    }
   ],
   "source": [
    "my_lapse.alapse()"
   ]
  },
  {
   "cell_type": "code",
   "execution_count": 14,
   "id": "e5681753",
   "metadata": {},
   "outputs": [
    {
     "data": {
      "text/plain": [
       "'8 mon'"
      ]
     },
     "execution_count": 14,
     "metadata": {},
     "output_type": "execute_result"
    }
   ],
   "source": [
    "my_lapse.slapse()"
   ]
  },
  {
   "cell_type": "code",
   "execution_count": 15,
   "id": "1a8d0d46-745b-410a-a059-c6bd45400310",
   "metadata": {},
   "outputs": [
    {
     "data": {
      "text/plain": [
       "20568924"
      ]
     },
     "execution_count": 15,
     "metadata": {},
     "output_type": "execute_result"
    }
   ],
   "source": [
    "my_lapse.seconds()"
   ]
  },
  {
   "cell_type": "code",
   "execution_count": null,
   "id": "0992939c-341e-410d-8b7b-f4ff47ecff3e",
   "metadata": {},
   "outputs": [],
   "source": [
    "<div >{{my_lapse.alapse()}}</div>"
   ]
  }
 ],
 "metadata": {
  "kernelspec": {
   "display_name": "Python 3 (ipykernel)",
   "language": "python",
   "name": "python3"
  },
  "language_info": {
   "codemirror_mode": {
    "name": "ipython",
    "version": 3
   },
   "file_extension": ".py",
   "mimetype": "text/x-python",
   "name": "python",
   "nbconvert_exporter": "python",
   "pygments_lexer": "ipython3",
   "version": "3.7.3"
  }
 },
 "nbformat": 4,
 "nbformat_minor": 5
}
